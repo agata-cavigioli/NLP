{
 "cells": [
  {
   "cell_type": "code",
   "execution_count": 1,
   "id": "0b8f7163",
   "metadata": {},
   "outputs": [],
   "source": [
    "import numpy as np\n",
    "\n",
    "with open('novela.txt', 'r', encoding='utf-8') as f:\n",
    "    text = f.read()\n",
    "#text = text.lower()\n",
    "text = text.replace('\\n', '')"
   ]
  },
  {
   "cell_type": "code",
   "execution_count": 2,
   "id": "6d32e024",
   "metadata": {},
   "outputs": [],
   "source": [
    "# Resolución del ejercio anterior para el modelo de unigramas.\n",
    "\n",
    "# unique character\n",
    "chars = sorted(list(set(text)))\n",
    "vocab_size = len(chars)\n",
    "\n",
    "# maps between char and int\n",
    "stoi = { ch:i for i,ch in enumerate(chars) }\n",
    "itos = { i:ch for i,ch in enumerate(chars) }\n",
    "encode = lambda s: [stoi[c] for c in s] # encoder: toma una cadena, devuelve una lista de enteros\n",
    "decode = lambda l: ''.join([itos[i] for i in l]) # decoder: toma una lista de enteros, devuelve una cadena\n",
    "\n",
    "#print(encode('abc'))\n",
    "#print(decode([1,2,3]))\n",
    "\n",
    "# vector of unigrams\n",
    "unigram_vector = np.zeros((vocab_size))\n",
    "\n",
    "# Recorre el texto y cuenta los bigramas\n",
    "for i in range(len(text)-1):\n",
    "    unigram_vector[stoi[text[i]]] += 1\n",
    "\n",
    "# Normaliza las filas de la tabla\n",
    "unigram_vector = unigram_vector / unigram_vector.sum()"
   ]
  },
  {
   "cell_type": "code",
   "execution_count": 3,
   "id": "682700d3",
   "metadata": {},
   "outputs": [
    {
     "data": {
      "text/plain": [
       "'auEshdtae sadlneoba  meclu dñmaaromñim,ibrt rd Aio rmob ímcectf ,oa mn uflerlb níol seeqfebli l oa l'"
      ]
     },
     "execution_count": 3,
     "metadata": {},
     "output_type": "execute_result"
    }
   ],
   "source": [
    "# Genera un texto a partir de la tabla de uniramas\n",
    "\n",
    "import random\n",
    "\n",
    "def generate_text(unigram_vector, n_words, word = ''):\n",
    "    text = [word]\n",
    "    key_vocab = list(range(vocab_size))\n",
    "    for i in range(n_words):\n",
    "        \n",
    "        key = random.choices(key_vocab, unigram_vector)[0]\n",
    "        word = itos[key]\n",
    "        text.append(word)\n",
    "    return ''.join(text)\n",
    "\n",
    "generate_text(unigram_vector, 100)"
   ]
  },
  {
   "cell_type": "code",
   "execution_count": 4,
   "id": "89a5ac2f",
   "metadata": {},
   "outputs": [
    {
     "name": "stdout",
     "output_type": "stream",
     "text": [
      "22.417956510708528\n",
      "21.192271502372794\n"
     ]
    }
   ],
   "source": [
    "# Calcula la perplejidad del modelo de lenguaje basado en bigram_table.\n",
    "\n",
    "def perplexity(unigram_vector, text):\n",
    "    perplexity = 0\n",
    "    for i in range(len(text)-1):\n",
    "        c1 = stoi[text[i]]\n",
    "        probability = unigram_vector[c1]\n",
    "        if probability == 0:\n",
    "            probability = 1e-10\n",
    "        perplexity += np.log(probability)\n",
    "    perplexity = np.exp(-perplexity/len(text))\n",
    "    return perplexity\n",
    "\n",
    "\n",
    "txt1= \"Muchos años después, frente al pelotón de fusilamiento, el coronel Aureliano Buendía\"\n",
    "print(perplexity(unigram_vector, txt1))\n",
    "\n",
    "# ¿Qué perplejidad obtienes para el texto invertido?\n",
    "print(perplexity(unigram_vector, txt1[::-1]))"
   ]
  },
  {
   "cell_type": "code",
   "execution_count": 5,
   "id": "754ca7af",
   "metadata": {},
   "outputs": [],
   "source": [
    "# Resolución del ejercio anterior para el modelo de bigramas.\n",
    "\n",
    "# Preparación de la tabla que contendrá los bigramas\n",
    "bigram_table = np.zeros((vocab_size, vocab_size))\n",
    "\n",
    "# Recorre el texto y cuenta los bigramas\n",
    "for i in range(len(text)-1):\n",
    "    bigram_table[stoi[text[i]], stoi[text[i+1]]] += 1\n",
    "\n",
    "# Normaliza las filas de la tabla\n",
    "bigram_table = bigram_table / bigram_table.sum(axis=1, keepdims=True)"
   ]
  },
  {
   "cell_type": "code",
   "execution_count": 6,
   "id": "a7fb2122",
   "metadata": {},
   "outputs": [
    {
     "data": {
      "text/plain": [
       "'Cioba eriveveró Pimás lana l Amás po cel sio cigontendico onerie, ta Mañó- l cato. Tas d y qulanuro c'"
      ]
     },
     "execution_count": 6,
     "metadata": {},
     "output_type": "execute_result"
    }
   ],
   "source": [
    "# Genera un texto a partir de la tabla de bigramas\n",
    "\n",
    "def generate_text(bigram_table, n_words, word=\"H\"):\n",
    "    text = [word]\n",
    "    key_vocab = list(range(vocab_size))\n",
    "    for i in range(n_words):\n",
    "        key = random.choices(key_vocab, bigram_table[stoi[text[-1]]])[0]\n",
    "        word = itos[key]\n",
    "        text.append(word)\n",
    "    return ''.join(text)\n",
    "\n",
    "generate_text(bigram_table, 100, \"C\")"
   ]
  },
  {
   "cell_type": "code",
   "execution_count": 7,
   "id": "cda41181",
   "metadata": {},
   "outputs": [
    {
     "name": "stdout",
     "output_type": "stream",
     "text": [
      "8.876121540533543\n",
      "857.2947969771436\n"
     ]
    }
   ],
   "source": [
    "# Calcula la perplejidad del modelo de lenguaje basado en bigram_table.\n",
    "\n",
    "def biperplexity(bigram_table, text):\n",
    "    perplexity = 0\n",
    "    for i in range(len(text)-1):\n",
    "        c1 = stoi[text[i]]\n",
    "        c2 = stoi[text[i+1]]\n",
    "        probability = bigram_table[c1][c2]\n",
    "        if probability == 0:\n",
    "            probability = 1e-10\n",
    "        perplexity += np.log(probability)\n",
    "    perplexity = np.exp(-perplexity/len(text))\n",
    "    return perplexity\n",
    "\n",
    "\n",
    "txt1= \"Muchos años después, frente al pelotón de fusilamiento, el coronel Aureliano Buendía\"\n",
    "print(biperplexity(bigram_table, txt1))\n",
    "\n",
    "# ¿Qué perplejidad obtienes para el texto invertido?\n",
    "print(biperplexity(bigram_table, txt1[::-1]))"
   ]
  },
  {
   "cell_type": "code",
   "execution_count": 8,
   "id": "fde8c921",
   "metadata": {},
   "outputs": [],
   "source": [
    "# Resolución del ejercio anterior para el modelo de trigramas.\n",
    "\n",
    "# Preparación de la tabla que contendrá los bigramas\n",
    "trigram_table = np.zeros((vocab_size, vocab_size, vocab_size))\n",
    "\n",
    "# Recorre el texto y cuenta los bigramas\n",
    "for i in range(len(text)-2):\n",
    "    trigram_table[stoi[text[i]], stoi[text[i+1]],stoi[text[i+2]]] += 1\n",
    "\n",
    "# Normaliza las filas de la tabla\n",
    "trigram_table = trigram_table / trigram_table.sum(axis=(1,2), keepdims=True)\n",
    "trigram_table = np.nan_to_num(trigram_table, nan=0.00001)\n",
    "#trigram_table"
   ]
  },
  {
   "cell_type": "code",
   "execution_count": 9,
   "id": "e7a1df34",
   "metadata": {},
   "outputs": [
    {
     "data": {
      "text/plain": [
       "'Macado anoto que Singeda envendo dez. Maunar del desde fue Úrsu de plimeton ausidas, haba mue Aureci'"
      ]
     },
     "execution_count": 9,
     "metadata": {},
     "output_type": "execute_result"
    }
   ],
   "source": [
    "# Genera un texto a partir de la tabla de trigramas\n",
    "\n",
    "def generate_text(trigram_table, n_words, word=\"Ha\"):\n",
    "    text = [word[0],word[1]]\n",
    "    key_vocab = list(range(vocab_size))\n",
    "    for i in range(2,n_words):\n",
    "        key = random.choices(key_vocab, trigram_table[stoi[text[i-2]],stoi[text[i-1]]])[0]\n",
    "        word = itos[key]\n",
    "        text.append(word)\n",
    "    return ''.join(text)\n",
    "\n",
    "generate_text(trigram_table, 100, \"Ma\")"
   ]
  },
  {
   "cell_type": "code",
   "execution_count": 10,
   "id": "ca8fbcab",
   "metadata": {},
   "outputs": [
    {
     "name": "stdout",
     "output_type": "stream",
     "text": [
      "45.4210762055036\n",
      "423069.51176773186\n"
     ]
    }
   ],
   "source": [
    "def triperplexity(trigram_table, text):\n",
    "    perplexity = 0\n",
    "    for i in range(len(text)-2):\n",
    "        c1 = stoi[text[i]]\n",
    "        c2 = stoi[text[i+1]]\n",
    "        c3 = stoi[text[i+2]]\n",
    "        probability = trigram_table[c1][c2][c3]\n",
    "        if probability == 0:\n",
    "            probability = 1e-10\n",
    "        perplexity += np.log(probability)\n",
    "    perplexity = np.exp(-perplexity/len(text))\n",
    "    return perplexity\n",
    "\n",
    "txt1= \"Muchos años después, frente al pelotón de fusilamiento, el coronel Aureliano Buendía\"\n",
    "print(triperplexity(trigram_table, txt1))\n",
    "\n",
    "# ¿Qué perplejidad obtienes para el texto invertido?\n",
    "print(triperplexity(trigram_table, txt1[::-1]))"
   ]
  },
  {
   "cell_type": "code",
   "execution_count": null,
   "id": "efbf9e18",
   "metadata": {},
   "outputs": [],
   "source": []
  }
 ],
 "metadata": {
  "kernelspec": {
   "display_name": "Python 3 (ipykernel)",
   "language": "python",
   "name": "python3"
  },
  "language_info": {
   "codemirror_mode": {
    "name": "ipython",
    "version": 3
   },
   "file_extension": ".py",
   "mimetype": "text/x-python",
   "name": "python",
   "nbconvert_exporter": "python",
   "pygments_lexer": "ipython3",
   "version": "3.10.12"
  }
 },
 "nbformat": 4,
 "nbformat_minor": 5
}

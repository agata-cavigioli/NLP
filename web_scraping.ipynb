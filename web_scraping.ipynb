{
 "cells": [
  {
   "cell_type": "code",
   "execution_count": 1,
   "id": "451f8ca2",
   "metadata": {},
   "outputs": [],
   "source": [
    "import spacy\n",
    "from bs4 import BeautifulSoup\n",
    "import requests\n",
    "from flask import Flask"
   ]
  },
  {
   "cell_type": "markdown",
   "id": "4f8ec9a8",
   "metadata": {},
   "source": [
    "# Web scraping"
   ]
  },
  {
   "cell_type": "code",
   "execution_count": 2,
   "id": "bc2cd8c4",
   "metadata": {},
   "outputs": [
    {
     "name": "stdout",
     "output_type": "stream",
     "text": [
      "Inteligencia Artificial\n",
      "\n",
      "Python\n",
      "\n",
      "\n",
      "Búsquedas\n",
      "\n",
      "\n",
      "Redes neuronales\n",
      "\n",
      "\n",
      "Aprendizaje por refuerzo\n",
      "\n",
      "\n",
      "Sistemas basados en reglas\n",
      "\n",
      "\n",
      "Computación evolutiva\n",
      "\n",
      "\n",
      "Redes Bayesianas\n",
      "\n",
      "\n",
      "Planificación\n",
      "\n",
      "\n",
      "Machine Learning\n",
      "\n",
      "\n",
      "Procesamiento del Lenguaje Natural (NLP)\n",
      "\n",
      "\n",
      "Misc.\n",
      "\n"
     ]
    }
   ],
   "source": [
    "from bs4 import BeautifulSoup\n",
    "import requests\n",
    "\n",
    "response = requests.get('http://cayetanoguerra.github.io/ia/')\n",
    "soup = BeautifulSoup(response.content, 'lxml')     #parser\n",
    "\n",
    "# Encuentra el primer elemento <h1>\n",
    "h1 = soup.find('h1')                 #find just the first one\n",
    "print(h1.text)\n",
    "\n",
    "# Encuentra todos los elementos <h3>\n",
    "paragraphs = soup.find_all('h3')     #find all of them\n",
    "for p in paragraphs:\n",
    "    print(p.text)"
   ]
  },
  {
   "cell_type": "code",
   "execution_count": 3,
   "id": "9763d73b",
   "metadata": {},
   "outputs": [
    {
     "name": "stdout",
     "output_type": "stream",
     "text": [
      "Selección española: Carvajal: \"En ningún momento he dicho que Jenni no sea la víctima\" | Marca|Es noticia:|Lista seleccion española femenina|Techo Santiago Bernabéu|Athletic bandera española|Aston Martin|AEMET tormentas|Arturo Pérez-Reverte Rubiales|Garbiñe Muguruza nueva vida|Granada - Girona TV|TardeAR horario|TardeAR colaboradores|Patricia Pardo|Pasapalabra invitados|Hormiguero invitados|Jorge Rey golondrinas|Precio luz hoy|F1 GP Japón horarios|Resultados fútbol|Calendario F1|Calendario Liga|Bienestar|Coches|Portada de Marca|Edición seleccionada|ES|Ediciones:|ES (España)|EN (English)|MX (México)|US (USA)|Escoge tu edición de Marca.com favorita|Siempre que entres en Marca.com se cargará esta edición|ES (España)|EN (English)|MX (México)|US (USA)|Confirmar|Suscríbete|Fútbol|Baloncesto|Motor|Polideportivo|Coches|Última hora|Fantasy|Agenda TV|Más|Cerrar|06 de septiembre\n",
      "de 2023|Actualizado a las 16:41 h.|Portada|Volver a:|Fútbol|Selección Española|Noticias|Mundial 2022|EURO 2024|UEFA Nations League|Europeo Sub-21|Palmarés|Más|Cerrar|Futbol/seleccion|Compartir en Facebook|Compartir en Twitter|Enviar por email|España|LaLiga EA Sports|Calendario|Clasificación|Equipos|Liga F|Calendario|Clasificación|LaLiga Hypermotion|Calendario|Clasificación|Equipos|Primera Federación|Segunda Federación|Tercera Federación|Copa del Rey|Copa de la Reina|Más fútbol|Supercopa de España|Supercopa de España femenina|Selección Española|UEFA Nations League|Selección Española femenina|UEFA Nations League femenina|Mundial 2023|Fútbol Sala|Premios MARCA|Internacional|Premier League|Calendario|Clasificación|Equipos|Bundesliga|Calendario|Clasificación|Equipos|Serie A|Calendario|Clasificación|Equipos|Ligue 1|Calendario|Clasificación|Equipos|Primeira Liga de Portugal|Calendario|Clasificación|Equipos|Liga Saudí|Calendario|Clasificación|Champions League|Calendario|Clasificación|Equipos|Champions League femenina|Calendario|Clasificación|Europa League|Calendario|Clasificación|Equipos|Conference League|Calendario|Clasificación|Equipos|Youth League|Calendario|Clasificación|Supercopa de Europa|Mundial de clubes|Calendario|Mundial 2026|Mundial Femenino 2023|EURO 2024|Copa África|América|Argentina|Calendario|Clasificación|Chile|Calendario|Clasificación|Colombia|Calendario|Clasificación|Estados Unidos|Calendario|Clasificación|México|Calendario|Clasificación|Venezuela|Calendario|Clasificación|Leagues Cup|Calendario|Clasificación|CONMEBOL Libertadores|Calendario|Clasificación|Copa América|Calendario|Más América|Campeonato Brasileiro|Liga Bolivia|Paraguayan Primera División|Primera División del Perú|Serie A de Ecuador|Uruguayan Primera División|Destacamos|Atletismo|Balonmano|Ciclismo|Golf|Tenis|Boxeo|Otros deportes|Ajedrez|Deportes Aventura|Deportes Invierno|eSports|Hípica|Hockey Hierba|Hockey Patines|Juegos Olímpicos|Juegos Olímpicos de Invierno|MMA|Natación|NFL|NHL|Olimpismo|Pádel|Paralímpicos|Rugby|Tenis de mesa|Toros|Triatlón|Turf|UFC|Vela|Voleibol|Waterpolo|SELECCIÓN ESPAÑOLA|Selección española|Carvajal: \"En ningún momento he dicho que Jenni no sea la víctima\"|El lateral compareció en rueda de prensa y repasó la actualidad de la selección|Carvajal: \"Hay que solidarizarse con Jenni, pero no creo que Rubiales lo esté pasando bien\"|JOSÉ FÉLIX DÍAZ|Actualizado|06/09/2023\n",
      "-|13:09|CEST|Compartir en Facebook|Compartir en Twitter|Compartir en Telegram|Compartir en Whatsapp|Enviar por email|552|Mostrar comentarios|Selección.|Así ha sido la rueda de prensa de Carvajal|Entrevista.|Carvajal: \"¿Jenni Hermoso víctima? Hay estamentos legales que lo deben decidir\"|D|ani Carvajal pasó por la sala de prensa. El madridista es uno de los capitanes de la selección y una de las voces autorizadas. \"|Queda bastante claro lo que pienso. Solo defiendo la presunción de inocencia. No puedes culpabilizar a nadie sin sentencia alguna|. El comunicado resultó complicado por poner de acuerdo a 24 personas. Lo hicimos con buena intención. Muy orgulloso del éxito que lograron. Las felicité. El sábado pasado recibieron un homenaje del Bernabéu\".|Respecto a las consecuencias de lo que está pasando.|\"Para lo bueno como para lo malo, la repercusión es muy alta. No voy a opinar a nivel personal. Cada uno puede hacer lo que quiera. No soy nadie para juzgar a nadie. En ningún momento he dicho que Jenni no sea la víctima, he dicho que hay que preservar la presunción de inocencia. No creo que el presidente esté pasando momentos agradables, pero no estoy aquí para juzgar a nadie.\"|No soy nadie para juzgar a nadie. En ningún momento he dicho que Jenni no sea la víctima|Carvajal - Jugador Selección Española|Respecto a Rubiales afirma.|\"La opinión que tengo de Rubiales como presidente tengo una opinión excelente. No soy quien para limpiar o deshacer en la Federación. ¿La respuesta de Rubiales? No la vi. Dijimos que estábamos en desacuerdo con lo hecho por él. Defendemos los valores del deporte\".|Habló del vestuario.|\"Está focalizado en el partido de Georgia, que es vital para la clasificación. Dimos el comunicado para que se hablara de fútbol. Álvaro es el capitán. Ha pasado por muchos clubes. Tiene capacidad de liderazgo. Al final tenemos un alcance social muy grande. Estamos en el foco de mucha gente. No es un tema agradable para nosotros, ojalá solo se hubiese hablado del campeonato que hemos ganado. Sabemos lo que significa el fútbol para España y buscamos mostrar nuestro mejor nivel y a nivel mediático buscar que todo se calme\".|La opinión que tengo de Rubiales como presidente tengo una opinión excelente|Carvajal - Jugador Selección española|Carvajal no valora el adiós de Vilda.|\"No puedo responder. Son decisiones que se toman de manera interna. A muerte con el mister desde el momento que estamos aquí, las otras decisiones no nos competen a nosotros. El mister aclaró su situación. Claro que estamos con él. Nos llevó a ganar la Liga de las Naciones. Cada entrenador tiene sus matices. Nos pide transiciones más rápidas y ser más directos en la fase ofensiva, terminar jugadas\".|El lateral ya es todo un veterano.|\"Satisfacción plena. Cada concentración la afronto al máximo, como si fuera la última. Los jóvenes vienen apretando muy fuerte y esa es una realidad\".|No echa en falta a un nueve en el Real Madrid.|\"Somos los más realizadores. Ya lo dijo Ancelotti que había venido Bellingham y que iba a ser importante. Tenemos un equipo muy completo en todas las líneas y esperamos poder dar muchas alegrías a losaficionados\".|Selección de Fútbol de España|Dani Carvajal|Tertulia|El Corrillo: \"A Carvajal se le critica injustamente, parece que no existe la libertad de expresión en España\"|Selección Española|Carvajal: \"¿Jenni Hermoso víctima? Hay estamentos legales que lo deben decidir\"|Selección Española|Marc Crosas ataca a Carvajal por su postura en el 'caso Rubiales': \"Más machista y más facha no se puede ser...\"|Ver enlaces de interés|LaLiga EA Sports|LaLiga Hypermotion|Premier League|Fichajes LaLiga|Resultados LaLiga|Clasificacion Liga|Convocatoria España|Granada - Girona TV|Andorra - Oviedo horario|Techo Santiago Bernabeu|Selección femenina|Noticias más leídas|Ver más|\"¿Por qué no lo ha hecho antes y nos ha evitado estas dos semanas?\"|Joselu reactiva el plan B|El exfutbolista Koke, en prisión por narcotráfico: \"Tengo mis contactos, pero no soy Pablo Escobar\"|Omar Montes la lía en un concierto de Ana Mena: \"¡Una vergüenza!\"|Paul Pogba da positivo en un control antidopaje|552|Comentarios|MickeyDonovan|#1|06/09/2023|13:13 horas|Valiente|Holt|#14|06/09/2023|13:15 horas|Gracias Carvajal, por luchar por recuperar algo de libertad de expresión, de opinión y de pensamiento ante la dictadura feminista y de extrema izquierda|Ver 552 comentarios|Mostrar comentarios|Volver a la noticia|'Carvajal: \"En ningún momento he dicho que Jenni no sea la víctima\"'|Cargando siguiente contenido|Otras webs de Unidad Editorial|Marca|App Marca|Clasificación LaLiga|Calendario LaLiga|Hemeroteca Marca|Marca Gaming|Marca en Orbyt|Ocio y Moda|Tiramillas|Moda - Telva|Traductor|Programación TV|Marca Entradas|Bienestar|Unidad Editorial|El Mundo|Expansión|CuídatePlus|Diario Médico|Cooking Recetas|Suscripción Marca|Formación y Empleo|Escuela Unidad Editorial|Unidad Editorial|Expansión y Empleo|©|Unidad Editorial Información Deportiva, S.L.U. Todos los derechos reservados.|Política de cookies|Configuración de cookies|Política de privacidad|Términos y condiciones de uso|Certificado por OJD|Contacto|Publicidad|Ayuda|Nuestro equipo|Venta de contenidos|Código ético|Síguenos en|Facebook|Twitter|RSS|España|Liga Endesa|Calendario|Clasificación|Liga Endesa femenina|LEB Oro|LEB Plata|Copa del Rey|Cuadro y resultados|Supercopa Endesa|Cuadro y resultados|Basket FEB|Selección|Europa|Euroliga|Clasificación|Calendario|Eurocup|Resultados y Clasificación|FIBA Champions League|Resultados y Clasificación|Internacional|NBA|Calendario|Clasificaciones|Equipos|Mundial 2023|Coches|Fórmula 1|Calendario|Clasificación de pilotos|Clasificación de constructores|Grandes Premios de Fórmula 1|Bahrein|Arabia Saudí|Australia|Azerbaiyán|Miami|Emilia Romagna|Mónaco|España|Canadá|Austria|Gran Bretaña|Hungría|Bélgica|Países Bajos|Italia|Singapur|Japón|Qatar|Estados Unidos|México|Brasil|Las Vegas|Emiratos Árabes|Rallies|Calendario|Clasificación de pilotos|Clasificación de equipos|Dakar|WEC|Indycar|24 Horas de Daytona|24 Horas de Le Mans|Motos|Moto GP|Calendario|Clasificación de pilotos|Grandes Premios de Moto GP|Portugal|Argentina|Las Américas|España|Francia|Italia|Alemania|Países Bajos|Kazajistán|Gran Bretaña|Austria|Cataluña|San Marino|India|Japón|Indonesia|Australia|Tailandia|Malasia|Qatar|Comunidad Valenciana|Modelos de coches|Modelos|Comparador de coches|Pruebas de coches|Ocio|Vídeos|Coches y motos|Coches|Motos|Tráfico|Tecnología|Industria|Salones del Automóvil|Frankfurt|Shanghái|Ginebra|Los Ángeles|París|Y además|Accesorios|Recomendador/Comparador\n"
     ]
    }
   ],
   "source": [
    "from bs4 import BeautifulSoup\n",
    "import requests\n",
    "\n",
    "response = requests.get('https://www.marca.com/futbol/seleccion/2023/09/06/64f85cf9e2704e573c8b459c.html')\n",
    "\n",
    "soup = BeautifulSoup(response.content, 'lxml')\n",
    "\n",
    "text = soup.get_text(\"|\", strip=True)\n",
    "print(text)"
   ]
  },
  {
   "cell_type": "code",
   "execution_count": null,
   "id": "66abbc08",
   "metadata": {},
   "outputs": [
    {
     "name": "stdout",
     "output_type": "stream",
     "text": [
      " * Serving Flask app '__main__'\n",
      " * Debug mode: off\n"
     ]
    },
    {
     "name": "stderr",
     "output_type": "stream",
     "text": [
      "WARNING: This is a development server. Do not use it in a production deployment. Use a production WSGI server instead.\n",
      " * Running on http://127.0.0.1:5000\n",
      "Press CTRL+C to quit\n",
      "127.0.0.1 - - [18/Sep/2023 18:25:21] \"GET / HTTP/1.1\" 200 -\n"
     ]
    }
   ],
   "source": [
    "app = Flask(__name__)\n",
    "\n",
    "@app.route('/')\n",
    "def hello_world():\n",
    "    return 'Hello, World!'\n",
    "\n",
    "if __name__ == '__main__':\n",
    "    app.run()"
   ]
  },
  {
   "cell_type": "code",
   "execution_count": null,
   "id": "3d012737",
   "metadata": {},
   "outputs": [],
   "source": []
  }
 ],
 "metadata": {
  "kernelspec": {
   "display_name": "Python 3 (ipykernel)",
   "language": "python",
   "name": "python3"
  },
  "language_info": {
   "codemirror_mode": {
    "name": "ipython",
    "version": 3
   },
   "file_extension": ".py",
   "mimetype": "text/x-python",
   "name": "python",
   "nbconvert_exporter": "python",
   "pygments_lexer": "ipython3",
   "version": "3.10.12"
  }
 },
 "nbformat": 4,
 "nbformat_minor": 5
}

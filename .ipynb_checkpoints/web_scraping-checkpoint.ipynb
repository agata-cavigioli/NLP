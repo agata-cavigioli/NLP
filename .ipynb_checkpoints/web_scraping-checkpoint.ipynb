{
 "cells": [
  {
   "cell_type": "code",
   "execution_count": 10,
   "id": "d60db516",
   "metadata": {},
   "outputs": [],
   "source": [
    "import spacy\n",
    "from bs4 import BeautifulSoup\n",
    "import requests"
   ]
  },
  {
   "cell_type": "markdown",
   "id": "71fecfa7",
   "metadata": {},
   "source": [
    "# Web scraping"
   ]
  },
  {
   "cell_type": "code",
   "execution_count": 11,
   "id": "9ed09453",
   "metadata": {},
   "outputs": [
    {
     "name": "stdout",
     "output_type": "stream",
     "text": [
      "Inteligencia Artificial\n",
      "\n",
      "Python\n",
      "\n",
      "\n",
      "Búsquedas\n",
      "\n",
      "\n",
      "Redes neuronales\n",
      "\n",
      "\n",
      "Aprendizaje por refuerzo\n",
      "\n",
      "\n",
      "Sistemas basados en reglas\n",
      "\n",
      "\n",
      "Computación evolutiva\n",
      "\n",
      "\n",
      "Redes Bayesianas\n",
      "\n",
      "\n",
      "Planificación\n",
      "\n",
      "\n",
      "Machine Learning\n",
      "\n",
      "\n",
      "Procesamiento del Lenguaje Natural (NLP)\n",
      "\n",
      "\n",
      "Misc.\n",
      "\n"
     ]
    }
   ],
   "source": [
    "from bs4 import BeautifulSoup\n",
    "import requests\n",
    "\n",
    "response = requests.get('http://cayetanoguerra.github.io/ia/')\n",
    "soup = BeautifulSoup(response.content, 'lxml')     #parser\n",
    "\n",
    "# Encuentra el primer elemento <h1>\n",
    "h1 = soup.find('h1')                 #find just the first one\n",
    "print(h1.text)\n",
    "\n",
    "# Encuentra todos los elementos <h3>\n",
    "paragraphs = soup.find_all('h3')     #find all of them\n",
    "for p in paragraphs:\n",
    "    print(p.text)"
   ]
  },
  {
   "cell_type": "code",
   "execution_count": null,
   "id": "58a6f49e",
   "metadata": {},
   "outputs": [],
   "source": []
  }
 ],
 "metadata": {
  "kernelspec": {
   "display_name": "Python 3 (ipykernel)",
   "language": "python",
   "name": "python3"
  },
  "language_info": {
   "codemirror_mode": {
    "name": "ipython",
    "version": 3
   },
   "file_extension": ".py",
   "mimetype": "text/x-python",
   "name": "python",
   "nbconvert_exporter": "python",
   "pygments_lexer": "ipython3",
   "version": "3.10.12"
  }
 },
 "nbformat": 4,
 "nbformat_minor": 5
}

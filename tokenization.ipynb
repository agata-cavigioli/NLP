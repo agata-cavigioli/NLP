{
 "cells": [
  {
   "cell_type": "code",
   "execution_count": null,
   "id": "09166c64",
   "metadata": {},
   "outputs": [],
   "source": [
    "import spacy\n",
    "nlp = spacy.load(\"es_core_news_sm\")\n",
    "\n",
    "with open('novela.txt','r') as f:\n",
    "    mytext = f.read()\n",
    "    \n",
    "####################################1 \n",
    "txt = mytext.lower()\n",
    "txt = txt.replace(',', '')\n",
    "txt = txt.replace('.', '')\n",
    "txt = txt.replace(';', '')\n",
    "txt = txt.replace(':', '')\n",
    "txt = txt.replace('?', '')\n",
    "txt = txt.replace('¿', '')\n",
    "txt = txt.replace('!', '')\n",
    "txt = txt.replace('¡', '')\n",
    "txt = txt.replace('-', '')\n",
    "txt = txt.replace('»', '')\n",
    "txt = txt.replace('\"', '')\n",
    "txt = txt.replace('\\n', '')\n",
    "\n",
    "doc = nlp(txt)"
   ]
  },
  {
   "cell_type": "code",
   "execution_count": 2,
   "id": "3812b3f9",
   "metadata": {},
   "outputs": [
    {
     "name": "stdout",
     "output_type": "stream",
     "text": [
      "number of words: 138436\n",
      "\n"
     ]
    }
   ],
   "source": [
    "####################################1 \n",
    "\n",
    "i=0\n",
    "for token in doc:\n",
    "    i = i+1\n",
    "print('number of words: ' + str(i) + '\\n')"
   ]
  },
  {
   "cell_type": "code",
   "execution_count": 3,
   "id": "cb554a37",
   "metadata": {},
   "outputs": [
    {
     "name": "stdout",
     "output_type": "stream",
     "text": [
      "number of unique words: 8287\n",
      "\n"
     ]
    }
   ],
   "source": [
    "####################################2 El número de palabras únicas que tiene la novela.\n",
    "wordfreq1 = {}\n",
    "for token in doc:\n",
    "    if token.text not in wordfreq1:\n",
    "        wordfreq1[token.text] = 0 \n",
    "    wordfreq1[token.text] += 1\n",
    "\n",
    "j=0\n",
    "for key in wordfreq1:\n",
    "    if wordfreq1[key] == 1:         #unique word\n",
    "        j = j+1\n",
    "print('number of unique words: ' + str(j) + '\\n')\n"
   ]
  },
  {
   "cell_type": "code",
   "execution_count": 4,
   "id": "46fe6855",
   "metadata": {},
   "outputs": [
    {
     "name": "stdout",
     "output_type": "stream",
     "text": [
      "number of occurence of the word macondo: 180\n",
      "\n"
     ]
    }
   ],
   "source": [
    "##################################3 El número de veces que aparece la palabra \"Macondo\" en la novela.\n",
    "m=0\n",
    "for token in doc:\n",
    "    if token.text == 'macondo':\n",
    "        m = m+1\n",
    "print('number of occurence of the word macondo: ' + str(m) + '\\n')\n"
   ]
  },
  {
   "cell_type": "code",
   "execution_count": 5,
   "id": "020cc6a0",
   "metadata": {},
   "outputs": [
    {
     "name": "stdout",
     "output_type": "stream",
     "text": [
      "number of important words: 59717\n",
      "\n",
      "the first 100 most frequent words: \n",
      "{'aureliano': 794, 'úrsula': 514, 'arcadio': 480, 'casa': 463, 'josé': 424, 'buendía': 406, 'coronel': 312, 'amaranta': 310, '«': 282, 'tiempo': 269, 'fernanda': 218, 'años': 187, 'noche': 181, 'macondo': 180, 'guerra': 152, 'cuarto': 141, 'mujer': 140, 'vio': 139, 'hombre': 137, 'muerte': 136, 'mundo': 132, 'volvió': 129, 'rebeca': 129, 'vida': 124, 'padre': 117, 'remedios': 117, 'pueblo': 115, 'hubiera': 115, 'meses': 110, 'puerta': 108, 'hombres': 105, 'melquíades': 103, 'meme': 98, 'dormitorio': 96, 'cama': 94, 'encontró': 93, 'iba': 92, 'cosas': 91, 'puso': 89, 'ojos': 89, 'amor': 87, 'familia': 86, 'niños': 86, 'mano': 85, 'horas': 85, 'único': 84, 'realidad': 83, 'hora': 82, 'madre': 82, 'calle': 80, 'podía': 80, 'corazón': 79, 'parecía': 78, 'frente': 77, 'momento': 76, 'sintió': 74, 'gerineldo': 74, 'llevaba': 73, 'márquez': 71, 'oro': 71, 'tierra': 71, 'crespi': 71, 'hacía': 70, 'petra': 70, 'hijo': 69, 'piedad': 67, 'bella': 67, 'cotes': 67, 'dios': 66, 'pietro': 66, 'nombre': 65, 'patio': 65, 'lugar': 64, 'decía': 64, 'llevó': 63, 'cabeza': 63, 'voz': 62, 'hijos': 62, 'pilar': 62, 'santa': 62, 'lluvia': 60, 'taller': 60, 'siquiera': 59, 'punto': 59, 'niño': 59, 'ternera': 59, 'mañana': 58, 'aire': 58, 'gente': 56, 'mesa': 56, 'marido': 55, 'tiempos': 55, 'compañía': 55, 'ocasión': 53, 'sofía': 53, 'siguió': 52, 'empezó': 52, 'corredor': 52, 'época': 51, 'hermano': 51}\n"
     ]
    }
   ],
   "source": [
    "##################################4 Las 100 palabras más frecuentes de la novela, eliminando las palabras vacías (stopwords).\n",
    "k=0\n",
    "imp_text = []\n",
    "for token in doc:\n",
    "    if token.is_stop == False:\n",
    "        k = k+1\n",
    "        imp_text.append(token)\n",
    "print('number of important words: ' + str(k) + '\\n')\n",
    "\n",
    "\n",
    "wordfreq = {}\n",
    "for token in imp_text:\n",
    "    if token.text not in wordfreq:\n",
    "        wordfreq[token.text] = 0 \n",
    "    wordfreq[token.text] += 1\n",
    "\n",
    "wordfreq = sorted(wordfreq.items(), key=lambda x:x[1], reverse = True)\n",
    "\n",
    "wordfreq = dict(wordfreq)\n",
    "\n",
    "frequent = {k: wordfreq[k] for k in list(wordfreq)[:100]}\n",
    "print('the first 100 most frequent words: ')\n",
    "print(frequent)"
   ]
  },
  {
   "cell_type": "code",
   "execution_count": null,
   "id": "09226ba9",
   "metadata": {},
   "outputs": [],
   "source": []
  }
 ],
 "metadata": {
  "kernelspec": {
   "display_name": "Python 3 (ipykernel)",
   "language": "python",
   "name": "python3"
  },
  "language_info": {
   "codemirror_mode": {
    "name": "ipython",
    "version": 3
   },
   "file_extension": ".py",
   "mimetype": "text/x-python",
   "name": "python",
   "nbconvert_exporter": "python",
   "pygments_lexer": "ipython3",
   "version": "3.10.12"
  }
 },
 "nbformat": 4,
 "nbformat_minor": 5
}
